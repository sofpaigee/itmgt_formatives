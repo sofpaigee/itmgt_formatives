{
 "cells": [
  {
   "cell_type": "code",
   "execution_count": 2,
   "id": "ec494087-c024-434c-8961-6bd1b7eb63f1",
   "metadata": {},
   "outputs": [],
   "source": [
    "import numpy as np\n",
    "import pandas as pd\n",
    "import matplotlib.pyplot as plt\n",
    "import csv\n",
    "import json"
   ]
  },
  {
   "cell_type": "code",
   "execution_count": 5,
   "id": "6eaf16f5-798a-4c2d-8ff2-de41955eb651",
   "metadata": {},
   "outputs": [],
   "source": [
    "invoice_df = pd.read_csv('C:/Users/sofpa/Downloads/fct_invoice.csv')"
   ]
  },
  {
   "cell_type": "code",
   "execution_count": 8,
   "id": "3099aa5a-90a0-45c1-a78d-3679da4b114d",
   "metadata": {},
   "outputs": [],
   "source": [
    "customer_df = pd.read_json('C:/Users/sofpa/Downloads/dim_customer.json')"
   ]
  },
  {
   "cell_type": "markdown",
   "id": "50d87d6f-e04d-4fbb-a445-cb9fd9017e31",
   "metadata": {},
   "source": [
    "EASY"
   ]
  },
  {
   "cell_type": "markdown",
   "id": "2b219f7a-3d00-404d-a233-baa991eceb4d",
   "metadata": {},
   "source": [
    "1. How many unique customers are in the dataset?"
   ]
  },
  {
   "cell_type": "code",
   "execution_count": 14,
   "id": "0f92bfad-810a-4a71-aa79-61370efbb585",
   "metadata": {},
   "outputs": [
    {
     "data": {
      "text/plain": [
       "5191"
      ]
     },
     "execution_count": 14,
     "metadata": {},
     "output_type": "execute_result"
    }
   ],
   "source": [
    "invoice_df['customer_id'].nunique()"
   ]
  },
  {
   "cell_type": "markdown",
   "id": "19b06dd7-8f59-4239-be4f-b6af97f09844",
   "metadata": {},
   "source": [
    "2. What are the different categories of products available? How many unique categories are there?"
   ]
  },
  {
   "cell_type": "code",
   "execution_count": 19,
   "id": "0d3c2187-e40d-4964-8128-be9734ade0ec",
   "metadata": {},
   "outputs": [
    {
     "data": {
      "text/plain": [
       "'Clothing, Shoes, Books, Cosmetics, Food & Beverage, Toys, Technology, Souvenir'"
      ]
     },
     "execution_count": 19,
     "metadata": {},
     "output_type": "execute_result"
    }
   ],
   "source": [
    "', '.join(invoice_df['category'].unique())"
   ]
  },
  {
   "cell_type": "code",
   "execution_count": 22,
   "id": "942d3d49-f7a5-4763-985e-dd0d27321810",
   "metadata": {},
   "outputs": [
    {
     "data": {
      "text/plain": [
       "8"
      ]
     },
     "execution_count": 22,
     "metadata": {},
     "output_type": "execute_result"
    }
   ],
   "source": [
    "invoice_df['category'].nunique()"
   ]
  },
  {
   "cell_type": "markdown",
   "id": "92e26efe-f83f-481d-ab85-7bf53e8302fe",
   "metadata": {},
   "source": [
    "3. Which payment method is the most popular? How many times was it used?"
   ]
  },
  {
   "cell_type": "code",
   "execution_count": 27,
   "id": "b0a05d55-f2a9-4af9-91df-fd5ea04abcc8",
   "metadata": {},
   "outputs": [
    {
     "data": {
      "text/plain": [
       "'Cash'"
      ]
     },
     "execution_count": 27,
     "metadata": {},
     "output_type": "execute_result"
    }
   ],
   "source": [
    "''.join(invoice_df['payment_method'].mode())"
   ]
  },
  {
   "cell_type": "code",
   "execution_count": 30,
   "id": "f35c95a9-c233-4d7b-80ca-bd8ec31299a8",
   "metadata": {},
   "outputs": [
    {
     "data": {
      "text/plain": [
       "44447"
      ]
     },
     "execution_count": 30,
     "metadata": {},
     "output_type": "execute_result"
    }
   ],
   "source": [
    "len(invoice_df[invoice_df['payment_method']=='Cash'])"
   ]
  },
  {
   "cell_type": "markdown",
   "id": "afdcc506-9c87-43ee-a708-0e9df35ae52c",
   "metadata": {},
   "source": [
    "MEDIUM"
   ]
  },
  {
   "cell_type": "markdown",
   "id": "0f63382d-73cd-42ad-b533-31a23a600f8d",
   "metadata": {},
   "source": [
    "1. What are the three most popular categories, by total sales?"
   ]
  },
  {
   "cell_type": "code",
   "execution_count": 37,
   "id": "f3b0d8a5-ef0a-4e35-83b1-92ffa07586a8",
   "metadata": {},
   "outputs": [],
   "source": [
    "invoice_df['total_sales'] = invoice_df['quantity'] * invoice_df['price']"
   ]
  },
  {
   "cell_type": "code",
   "execution_count": 40,
   "id": "3458cfc3-0a45-44cd-b12a-100486c65a8f",
   "metadata": {},
   "outputs": [
    {
     "data": {
      "text/html": [
       "<div>\n",
       "<style scoped>\n",
       "    .dataframe tbody tr th:only-of-type {\n",
       "        vertical-align: middle;\n",
       "    }\n",
       "\n",
       "    .dataframe tbody tr th {\n",
       "        vertical-align: top;\n",
       "    }\n",
       "\n",
       "    .dataframe thead th {\n",
       "        text-align: right;\n",
       "    }\n",
       "</style>\n",
       "<table border=\"1\" class=\"dataframe\">\n",
       "  <thead>\n",
       "    <tr style=\"text-align: right;\">\n",
       "      <th></th>\n",
       "      <th>category</th>\n",
       "      <th>total_sales</th>\n",
       "    </tr>\n",
       "  </thead>\n",
       "  <tbody>\n",
       "    <tr>\n",
       "      <th>0</th>\n",
       "      <td>Clothing</td>\n",
       "      <td>1.139968e+08</td>\n",
       "    </tr>\n",
       "    <tr>\n",
       "      <th>1</th>\n",
       "      <td>Shoes</td>\n",
       "      <td>6.655345e+07</td>\n",
       "    </tr>\n",
       "    <tr>\n",
       "      <th>2</th>\n",
       "      <td>Technology</td>\n",
       "      <td>5.786235e+07</td>\n",
       "    </tr>\n",
       "  </tbody>\n",
       "</table>\n",
       "</div>"
      ],
      "text/plain": [
       "     category   total_sales\n",
       "0    Clothing  1.139968e+08\n",
       "1       Shoes  6.655345e+07\n",
       "2  Technology  5.786235e+07"
      ]
     },
     "execution_count": 40,
     "metadata": {},
     "output_type": "execute_result"
    }
   ],
   "source": [
    "invoice_df.groupby(by=['category']).sum()['total_sales'].nlargest(3).reset_index()"
   ]
  },
  {
   "cell_type": "markdown",
   "id": "99ac5957-a61b-4e69-8192-0687953d6918",
   "metadata": {},
   "source": [
    "2. What are the total sales attributed to customers over the age of 45?"
   ]
  },
  {
   "cell_type": "code",
   "execution_count": 45,
   "id": "25b647f9-a5ec-4252-83fe-194a4903d538",
   "metadata": {},
   "outputs": [
    {
     "data": {
      "text/plain": [
       "82039768.15"
      ]
     },
     "execution_count": 45,
     "metadata": {},
     "output_type": "execute_result"
    }
   ],
   "source": [
    "over_45 = customer_df[customer_df['age'] > 45]\n",
    "id_45 = over_45['id']\n",
    "invoice_45 = invoice_df[invoice_df['customer_id'].isin(id_45)]\n",
    "(invoice_45['price'] * invoice_45['quantity']).sum()"
   ]
  },
  {
   "cell_type": "markdown",
   "id": "bf6f6f7d-093e-42fe-b766-50900cb19c7e",
   "metadata": {},
   "source": [
    "3. How is the data distributed across different invoice dates? Are there any seasonal trends or patterns? (Use a graph for this.)"
   ]
  },
  {
   "cell_type": "code",
   "execution_count": 50,
   "id": "c3f0053a-e29f-4c7b-a90a-da55b907fd92",
   "metadata": {},
   "outputs": [
    {
     "data": {
      "image/png": "[encoded data removed]",
      "text/plain": [
       "<Figure size 1200x600 with 1 Axes>"
      ]
     },
     "metadata": {},
     "output_type": "display_data"
    }
   ],
   "source": [
    "invoice_df['invoice_date'] = pd.to_datetime(invoice_df['invoice_date'], format='%d/%m/%Y')\n",
    "invoice_df['month_year'] = invoice_df['invoice_date'].dt.to_period('M')\n",
    "monthly_sales = invoice_df.groupby('month_year')['total_sales'].sum()\n",
    "\n",
    "plt.figure(figsize=(12, 6))\n",
    "plt.plot(monthly_sales.index.astype(str), monthly_sales.values)\n",
    "plt.xlabel('Month-Year')\n",
    "plt.ylabel('Total Sales')\n",
    "plt.title('Monthly Sales Distribution')\n",
    "plt.xticks(rotation=45)\n",
    "plt.show()"
   ]
  },
  {
   "cell_type": "markdown",
   "id": "83ec770f-b745-44c4-82b5-c62442fb86d3",
   "metadata": {},
   "source": [
    "HARD"
   ]
  },
  {
   "cell_type": "markdown",
   "id": "fc07698c-ad35-486b-bc48-d3cbba357db9",
   "metadata": {},
   "source": [
    "1. Create a pivot table showing the breakdown of sales across these dimensions, in this order: category, decade age range (e.g., 10-19, 20-29, and so forth)."
   ]
  },
  {
   "cell_type": "code",
   "execution_count": 57,
   "id": "1981e356-a704-4598-bc3d-26c1bcc619d3",
   "metadata": {},
   "outputs": [
    {
     "name": "stderr",
     "output_type": "stream",
     "text": [
      "C:\\Users\\sofpa\\AppData\\Local\\Temp\\ipykernel_23696\\1989554063.py:6: FutureWarning: The provided callable <function sum at 0x000001633844D940> is currently using DataFrameGroupBy.sum. In a future version of pandas, the provided callable will be used directly. To keep current behavior pass the string \"sum\" instead.\n",
      "  pivot_table = pd.pivot_table(merged_df, values='total_sales', index='category', columns='decade_age_range', aggfunc=np.sum)\n"
     ]
    },
    {
     "data": {
      "text/html": [
       "<div>\n",
       "<style scoped>\n",
       "    .dataframe tbody tr th:only-of-type {\n",
       "        vertical-align: middle;\n",
       "    }\n",
       "\n",
       "    .dataframe tbody tr th {\n",
       "        vertical-align: top;\n",
       "    }\n",
       "\n",
       "    .dataframe thead th {\n",
       "        text-align: right;\n",
       "    }\n",
       "</style>\n",
       "<table border=\"1\" class=\"dataframe\">\n",
       "  <thead>\n",
       "    <tr style=\"text-align: right;\">\n",
       "      <th>decade_age_range</th>\n",
       "      <th>0-9</th>\n",
       "      <th>10-19</th>\n",
       "      <th>20-29</th>\n",
       "      <th>30-39</th>\n",
       "      <th>40-49</th>\n",
       "      <th>50-59</th>\n",
       "      <th>60-69</th>\n",
       "      <th>70-79</th>\n",
       "      <th>80-89</th>\n",
       "      <th>90-99</th>\n",
       "    </tr>\n",
       "    <tr>\n",
       "      <th>category</th>\n",
       "      <th></th>\n",
       "      <th></th>\n",
       "      <th></th>\n",
       "      <th></th>\n",
       "      <th></th>\n",
       "      <th></th>\n",
       "      <th></th>\n",
       "      <th></th>\n",
       "      <th></th>\n",
       "      <th></th>\n",
       "    </tr>\n",
       "  </thead>\n",
       "  <tbody>\n",
       "    <tr>\n",
       "      <th>Books</th>\n",
       "      <td>0.0</td>\n",
       "      <td>12801.75</td>\n",
       "      <td>79461.75</td>\n",
       "      <td>84143.10</td>\n",
       "      <td>87203.40</td>\n",
       "      <td>74962.20</td>\n",
       "      <td>80476.80</td>\n",
       "      <td>54827.85</td>\n",
       "      <td>26664.00</td>\n",
       "      <td>0.0</td>\n",
       "    </tr>\n",
       "    <tr>\n",
       "      <th>Clothing</th>\n",
       "      <td>0.0</td>\n",
       "      <td>1927413.84</td>\n",
       "      <td>10250732.80</td>\n",
       "      <td>11354126.96</td>\n",
       "      <td>11215189.92</td>\n",
       "      <td>10321851.76</td>\n",
       "      <td>10660642.08</td>\n",
       "      <td>7769371.28</td>\n",
       "      <td>4493698.00</td>\n",
       "      <td>0.0</td>\n",
       "    </tr>\n",
       "    <tr>\n",
       "      <th>Cosmetics</th>\n",
       "      <td>0.0</td>\n",
       "      <td>109619.36</td>\n",
       "      <td>605915.32</td>\n",
       "      <td>723544.70</td>\n",
       "      <td>665034.96</td>\n",
       "      <td>587780.96</td>\n",
       "      <td>649990.76</td>\n",
       "      <td>419082.62</td>\n",
       "      <td>254531.60</td>\n",
       "      <td>0.0</td>\n",
       "    </tr>\n",
       "    <tr>\n",
       "      <th>Food &amp; Beverage</th>\n",
       "      <td>0.0</td>\n",
       "      <td>13582.31</td>\n",
       "      <td>73491.96</td>\n",
       "      <td>87246.86</td>\n",
       "      <td>89553.29</td>\n",
       "      <td>72425.04</td>\n",
       "      <td>80976.09</td>\n",
       "      <td>55050.98</td>\n",
       "      <td>31332.93</td>\n",
       "      <td>0.0</td>\n",
       "    </tr>\n",
       "    <tr>\n",
       "      <th>Shoes</th>\n",
       "      <td>0.0</td>\n",
       "      <td>993281.35</td>\n",
       "      <td>5924878.24</td>\n",
       "      <td>7200839.66</td>\n",
       "      <td>7025590.02</td>\n",
       "      <td>5852857.84</td>\n",
       "      <td>5978893.54</td>\n",
       "      <td>4480269.05</td>\n",
       "      <td>2628744.60</td>\n",
       "      <td>0.0</td>\n",
       "    </tr>\n",
       "    <tr>\n",
       "      <th>Souvenir</th>\n",
       "      <td>0.0</td>\n",
       "      <td>12375.15</td>\n",
       "      <td>54943.32</td>\n",
       "      <td>64092.72</td>\n",
       "      <td>66391.80</td>\n",
       "      <td>54943.32</td>\n",
       "      <td>55025.43</td>\n",
       "      <td>38673.81</td>\n",
       "      <td>23718.06</td>\n",
       "      <td>0.0</td>\n",
       "    </tr>\n",
       "    <tr>\n",
       "      <th>Technology</th>\n",
       "      <td>0.0</td>\n",
       "      <td>1129800.00</td>\n",
       "      <td>5261550.00</td>\n",
       "      <td>6159300.00</td>\n",
       "      <td>5954550.00</td>\n",
       "      <td>4435200.00</td>\n",
       "      <td>5471550.00</td>\n",
       "      <td>3638250.00</td>\n",
       "      <td>1946700.00</td>\n",
       "      <td>0.0</td>\n",
       "    </tr>\n",
       "    <tr>\n",
       "      <th>Toys</th>\n",
       "      <td>0.0</td>\n",
       "      <td>60426.24</td>\n",
       "      <td>385100.80</td>\n",
       "      <td>420582.40</td>\n",
       "      <td>390906.88</td>\n",
       "      <td>345067.52</td>\n",
       "      <td>363955.20</td>\n",
       "      <td>273244.16</td>\n",
       "      <td>153932.80</td>\n",
       "      <td>0.0</td>\n",
       "    </tr>\n",
       "  </tbody>\n",
       "</table>\n",
       "</div>"
      ],
      "text/plain": [
       "decade_age_range  0-9       10-19        20-29        30-39        40-49  \\\n",
       "category                                                                   \n",
       "Books             0.0    12801.75     79461.75     84143.10     87203.40   \n",
       "Clothing          0.0  1927413.84  10250732.80  11354126.96  11215189.92   \n",
       "Cosmetics         0.0   109619.36    605915.32    723544.70    665034.96   \n",
       "Food & Beverage   0.0    13582.31     73491.96     87246.86     89553.29   \n",
       "Shoes             0.0   993281.35   5924878.24   7200839.66   7025590.02   \n",
       "Souvenir          0.0    12375.15     54943.32     64092.72     66391.80   \n",
       "Technology        0.0  1129800.00   5261550.00   6159300.00   5954550.00   \n",
       "Toys              0.0    60426.24    385100.80    420582.40    390906.88   \n",
       "\n",
       "decade_age_range        50-59        60-69       70-79       80-89  90-99  \n",
       "category                                                                   \n",
       "Books                74962.20     80476.80    54827.85    26664.00    0.0  \n",
       "Clothing          10321851.76  10660642.08  7769371.28  4493698.00    0.0  \n",
       "Cosmetics           587780.96    649990.76   419082.62   254531.60    0.0  \n",
       "Food & Beverage      72425.04     80976.09    55050.98    31332.93    0.0  \n",
       "Shoes              5852857.84   5978893.54  4480269.05  2628744.60    0.0  \n",
       "Souvenir             54943.32     55025.43    38673.81    23718.06    0.0  \n",
       "Technology         4435200.00   5471550.00  3638250.00  1946700.00    0.0  \n",
       "Toys                345067.52    363955.20   273244.16   153932.80    0.0  "
      ]
     },
     "execution_count": 57,
     "metadata": {},
     "output_type": "execute_result"
    }
   ],
   "source": [
    "customer_df['decade_age_range'] = pd.cut(customer_df['age'], bins=np.arange(0, 101, 10), right=False, labels=False)\n",
    "customer_df['decade_age_range'] = customer_df['decade_age_range'] * 10\n",
    "labels = ['{}-{}'.format(i, i + 9) for i in range(0, 100, 10)]\n",
    "customer_df['decade_age_range'] = pd.cut(customer_df['age'], bins=np.arange(0, 101, 10), right=False, labels=labels)\n",
    "merged_df = pd.merge(invoice_df, customer_df, left_on='customer_id', right_on='id')\n",
    "pivot_table = pd.pivot_table(merged_df, values='total_sales', index='category', columns='decade_age_range', aggfunc=np.sum)\n",
    "pivot_table"
   ]
  },
  {
   "cell_type": "code",
   "execution_count": null,
   "id": "0a6e5176-80bd-4af9-8b96-18892b622e7f",
   "metadata": {},
   "outputs": [],
   "source": []
  }
 ],
 "metadata": {
  "kernelspec": {
   "display_name": "Python 3 (ipykernel)",
   "language": "python",
   "name": "python3"
  },
  "language_info": {
   "codemirror_mode": {
    "name": "ipython",
    "version": 3
   },
   "file_extension": ".py",
   "mimetype": "text/x-python",
   "name": "python",
   "nbconvert_exporter": "python",
   "pygments_lexer": "ipython3",
   "version": "3.11.7"
  }
 },
 "nbformat": 4,
 "nbformat_minor": 5
}
