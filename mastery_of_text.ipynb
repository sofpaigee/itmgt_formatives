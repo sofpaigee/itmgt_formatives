{
 "cells": [
  {
   "cell_type": "code",
   "execution_count": 10,
   "id": "94dd1607-d5fa-4345-aaf7-8809341e3d24",
   "metadata": {},
   "outputs": [
    {
     "name": "stdout",
     "output_type": "stream",
     "text": [
      "Number of lines: 99968\n",
      "Number of words: 824538\n",
      "Number of occurrences of 'apostle': 40\n",
      "Most common word: the\n"
     ]
    }
   ],
   "source": [
    "import urllib.request\n",
    "\n",
    "url = \"https://www.gutenberg.org/cache/epub/10/pg10.txt\"\n",
    "response = urllib.request.urlopen(url)\n",
    "pg10 = response.read().decode(\"utf-8\")\n",
    "\n",
    "num_lines = pg10.count(\"\\n\")\n",
    "print(f\"Number of lines: {num_lines}\")\n",
    "\n",
    "num_words = len(pg10.split())\n",
    "print(f\"Number of words: {num_words}\")\n",
    "\n",
    "num_apostle = pg10.lower().count(\"apostle \")\n",
    "print(f\"Number of occurrences of 'apostle': {num_apostle}\")\n",
    "\n",
    "word_counts = {}\n",
    "for word in pg10.lower().split():\n",
    "    word = \"\".join(char for char in word if char.isalpha())\n",
    "    if word:\n",
    "        word_counts[word] = word_counts.get(word, 0) + 1\n",
    "most_common_word = max(word_counts, key=word_counts.get)\n",
    "print(f\"Most common word: {most_common_word}\")"
   ]
  },
  {
   "cell_type": "code",
   "execution_count": null,
   "id": "e2bcaa89-ae67-4876-917c-9cbcdec83a74",
   "metadata": {},
   "outputs": [],
   "source": []
  }
 ],
 "metadata": {
  "kernelspec": {
   "display_name": "Python 3 (ipykernel)",
   "language": "python",
   "name": "python3"
  },
  "language_info": {
   "codemirror_mode": {
    "name": "ipython",
    "version": 3
   },
   "file_extension": ".py",
   "mimetype": "text/x-python",
   "name": "python",
   "nbconvert_exporter": "python",
   "pygments_lexer": "ipython3",
   "version": "3.11.7"
  }
 },
 "nbformat": 4,
 "nbformat_minor": 5
}
